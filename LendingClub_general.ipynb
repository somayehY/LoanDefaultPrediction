{
 "cells": [
  {
   "cell_type": "code",
   "execution_count": null,
   "id": "2eecd55b",
   "metadata": {},
   "outputs": [],
   "source": [
    "import pandas as pd\n",
    "import matplotlib.pyplot as plt\n",
    "import seaborn as sns\n",
    "import os\n",
    "import numpy as np\n",
    "import warnings\n",
    "warnings.filterwarnings('ignore')"
   ]
  },
  {
   "cell_type": "code",
   "execution_count": null,
   "id": "11324ff7",
   "metadata": {},
   "outputs": [],
   "source": [
    "# Opening the file and saving it as a pandas dataframe.\n",
    "filepath = \"C:\\\\Users\\\\somfl\\\\Documents\\\\Data Science Career Track\\\\LendingClub\\\\accepted_2007_to_2018Q4.csv\"\n",
    "df = pd.read_csv(filepath)"
   ]
  },
  {
   "cell_type": "code",
   "execution_count": null,
   "id": "e2e9bee6",
   "metadata": {},
   "outputs": [],
   "source": [
    "# Defining a new column 'new_status' and combine 'Charged Off' and 'Default' as well as any 'late' loans into one status\n",
    "\n",
    "df['new_status'] = df['loan_status']\n",
    "df.loc[df['loan_status']=='Late (31-120 days)', 'new_status'] = 'Default'\n",
    "df.loc[df['loan_status']=='In Grace Period', 'new_status'] = 'Default'\n",
    "df.loc[df['loan_status']=='Late (16-30 days)', 'new_status'] = 'Default'\n",
    "df.loc[df['loan_status']=='Charged Off', 'new_status'] = 'Default'\n",
    "df.loc[df['loan_status']=='Does not meet the credit policy. Status:Fully Paid', 'new_status'] = 'Fully Paid'\n",
    "df.loc[df['loan_status']=='Does not meet the credit policy. Status:Charged Off', 'new_status'] = 'Default'\n",
    "\n",
    "\n",
    "df.drop(columns='loan_status', inplace=True)\n",
    "\n",
    "#Dropping loans which are 'Current'\n",
    "\n",
    "\n",
    "total = len(df)\n",
    "\n",
    "plt.figure(figsize = (8,6))\n",
    "\n",
    "ax = sns.countplot(x=\"new_status\", data=df)\n",
    "ax.set_xticklabels(ax.get_xticklabels(),rotation=45)\n",
    "ax.set_xlabel(\"Loan Status Categories\", fontsize=12)\n",
    "ax.set_ylabel(\"Count\", fontsize=15)\n",
    "ax.set_title(\"Loan Status Types Distribution\", fontsize=20)\n",
    "sizes=[]\n",
    "for p in ax.patches:\n",
    "    height = p.get_height()\n",
    "    sizes.append(height)\n",
    "    ax.text(p.get_x()+p.get_width()/2.,\n",
    "            height + 3,\n",
    "            '{:1.2f}%'.format(height/total*100),\n",
    "            ha=\"center\", fontsize=12) \n",
    "ax.set_ylim(0, max(sizes) * 1.10)\n",
    "\n",
    "plt.show()\n"
   ]
  },
  {
   "cell_type": "code",
   "execution_count": null,
   "id": "c2c1d8ee",
   "metadata": {},
   "outputs": [],
   "source": [
    "# Extracting year\n",
    "df[\"issue_year\"] = df[\"issue_d\"].str[4:]"
   ]
  },
  {
   "cell_type": "code",
   "execution_count": null,
   "id": "5635c693",
   "metadata": {},
   "outputs": [],
   "source": [
    "defaulL= df.loc[df['new_status']=='Default', ['issue_year']].value_counts()\n",
    "fullL= df.loc[df['new_status']=='Fully Paid', ['issue_year']].value_counts()\n",
    "currentL = df.loc[df['new_status']=='Current', ['issue_year']].value_counts()\n",
    "s = pd.DataFrame({'Fully Paid': fullL, 'Default': defaulL, 'Current': currentL})\n",
    "s = s.fillna(0)\n",
    "s['Total'] = s['Default'] + s['Fully Paid'] + s['Current']\n",
    "\n",
    "listIndex = s.index\n",
    "\n",
    "new = []\n",
    "for item in listIndex:\n",
    "    new.append(''.join(item))\n",
    "s.index = new\n",
    "#s.index = ['2012', '2013', '2014', '2015', '2016', '2017', '2018']\n",
    "\n",
    "fig, ax = plt.subplots(figsize=(12,6))\n",
    "ax.bar(s.index, s['Fully Paid'])\n",
    "ax.bar(s.index, s['Default'], bottom=s['Fully Paid'])\n",
    "ax.bar(s.index, s['Current'], bottom=s['Fully Paid']+ s['Default'])\n",
    "\n",
    "ax.set_xticklabels(s.index)\n",
    "ax.set_xlabel('Year', fontsize=15)\n",
    "ax.set_ylabel('count', fontsize=15)\n",
    "ax.legend(['Fully Paid', 'Default', 'Current'])\n",
    "ax.set_title(\"Annual Loan Status Distribution\", fontsize=20)\n",
    "\n",
    "#s_total=s['Total']\n",
    "#s = s.iloc[:, 0:2]\n",
    "#s_rel = s.div(s_total, 0)*100\n",
    "#n = 'Default'\n",
    "#for i, (cs, pc) in enumerate(zip(s.cumsum(1)[n], s_rel[n])):\n",
    " #   plt.text(i, cs, str(np.round(pc, 1)) + '%', va='bottom', ha='center')\n",
    "\n",
    "plt.show()"
   ]
  },
  {
   "cell_type": "code",
   "execution_count": null,
   "id": "77e4a49a",
   "metadata": {},
   "outputs": [],
   "source": [
    "df['new_status'].value_counts()"
   ]
  },
  {
   "cell_type": "code",
   "execution_count": null,
   "id": "61cb9553",
   "metadata": {},
   "outputs": [],
   "source": [
    "defaulL= df.loc[df['new_status']=='Default', ['issue_year']].value_counts()\n",
    "fullL= df.loc[df['new_status']=='Fully Paid', ['issue_year']].value_counts()\n",
    "currentL = df.loc[df['new_status']=='Current', ['issue_year']].value_counts()\n",
    "s = pd.DataFrame({'Fully Paid': fullL, 'Default': defaulL, 'Current': currentL})"
   ]
  },
  {
   "cell_type": "code",
   "execution_count": null,
   "id": "47fee620",
   "metadata": {},
   "outputs": [],
   "source": [
    "s"
   ]
  },
  {
   "cell_type": "code",
   "execution_count": null,
   "id": "dd85c7bd",
   "metadata": {},
   "outputs": [],
   "source": [
    "currentL"
   ]
  },
  {
   "cell_type": "code",
   "execution_count": null,
   "id": "536ac8eb",
   "metadata": {},
   "outputs": [],
   "source": [
    "# Plotting the distribution of the year\n",
    "fig, ax = plt.subplots(figsize=(15,5))\n",
    "sns.countplot(x=\"issue_year\", data=df, ax=ax, order=[\"2007\", '2008', '2009', '2010', '2011', '2012', '2013', '2014', '2015', '2016', '2017', '2018'], color='teal')\n",
    "ax.set_xlabel('Year', fontsize=12)\n",
    "ax.set_ylabel('count', fontsize=15)\n",
    "ax.set_title(\"Number of loans granted vs year\", fontsize=20)"
   ]
  },
  {
   "cell_type": "code",
   "execution_count": null,
   "id": "cfd26ec1",
   "metadata": {},
   "outputs": [],
   "source": [
    "df['home_ownership'] = df['home_ownership'].replace(['NONE', 'ANY'], 'OTHER')"
   ]
  },
  {
   "cell_type": "code",
   "execution_count": null,
   "id": "356a5400",
   "metadata": {},
   "outputs": [],
   "source": [
    "s = pd.DataFrame({'Fully Paid': df.loc[df['new_status']=='Fully Paid', ['home_ownership']].value_counts(), 'Default': df.loc[df['new_status']=='Default', ['home_ownership']].value_counts()})\n",
    "s['Total'] = s['Default'] + s['Fully Paid']\n",
    "listIndex = s.index\n",
    "\n",
    "new = []\n",
    "for item in listIndex:\n",
    "    new.append(''.join(item))\n",
    "s.index = new\n",
    "fig, ax = plt.subplots(figsize=(12,8))\n",
    "ax.bar(s.index, s['Fully Paid'], color=\"teal\")\n",
    "ax.bar(s.index, s['Default'], bottom=s['Fully Paid'], color=\"darkturquoise\")\n",
    "ax.set_xticklabels(s.index, rotation=45)\n",
    "ax.legend(['Fully Paid', 'Default'])\n",
    "ax.set_xlabel('Residence type', fontsize=15)\n",
    "ax.set_ylabel('Count', fontsize=15)\n",
    "ax.set_title(\"Loan status vs home ownership\", fontsize=20)\n",
    "\n",
    "\n",
    "s_total=s['Total']\n",
    "s = s.iloc[:, 0:2]\n",
    "\n",
    "s_rel = s.div(s_total, 0)*100\n",
    "\n",
    "n = 'Default'\n",
    "for i, (cs, pc) in enumerate(zip(s.cumsum(1)[n], s_rel[n])):\n",
    "    plt.text(i, cs, str(np.round(pc, 1)) + '%', va='bottom', ha='center')\n",
    "\n",
    "plt.show()  "
   ]
  },
  {
   "cell_type": "code",
   "execution_count": null,
   "id": "94c5bda5",
   "metadata": {},
   "outputs": [],
   "source": [
    "keeplist =['revol_util','dti', 'chargeoff_within_12_mths', 'collections_12_mths_ex_med', 'inq_last_6mths', 'earliest_cr_line', \n",
    "        'open_acc', 'mort_acc', 'annual_inc', 'issue_d','sub_grade', 'funded_amnt', 'installment', 'int_rate', \n",
    "        'term', 'revol_bal', 'fico_range_high', 'fico_range_low', 'emp_length', 'home_ownership',\n",
    "        'num_rev_accts', 'mths_since_last_major_derog', 'open_act_il', 'pub_rec_bankruptcies', 'tax_liens']\n",
    "missing1 = df[keeplist].isnull().sum()\n",
    "missing2 = 100*df[keeplist].isnull().mean()\n",
    "missing = pd.concat([missing1, missing2], axis=1)\n",
    "missing.columns = ['count', '%']"
   ]
  },
  {
   "cell_type": "code",
   "execution_count": null,
   "id": "61a5c3c3",
   "metadata": {},
   "outputs": [],
   "source": [
    "missing.sort_values(by='%', ascending=False)[0:50]"
   ]
  },
  {
   "cell_type": "code",
   "execution_count": null,
   "id": "9fe32f09",
   "metadata": {},
   "outputs": [],
   "source": [
    "# Check for missing data\n",
    "\n",
    "plt.figure(figsize=(10,6))\n",
    "sns.heatmap(df[keeplist].isna(), cbar=False, cmap='viridis', yticklabels=False)"
   ]
  },
  {
   "cell_type": "code",
   "execution_count": null,
   "id": "35cad843",
   "metadata": {},
   "outputs": [],
   "source": [
    "dff =df\n",
    "\n",
    "dff =dff[ dff['application_type'] == \"Individual\"]\n",
    "keeplist =['revol_util','dti', 'chargeoff_within_12_mths', 'collections_12_mths_ex_med', 'inq_last_6mths', 'earliest_cr_line', \n",
    "        'mort_acc', 'annual_inc', 'issue_d', 'grade', 'sub_grade', 'funded_amnt',  'installment', 'int_rate', \n",
    "        'verification_status', 'term', 'revol_bal', 'fico_range_high', 'fico_range_low', 'id', 'emp_length', 'home_ownership',\n",
    "        'num_rev_accts', 'pub_rec_bankruptcies', 'tax_liens', 'addr_state']\n",
    "dff = dff[keeplist]\n",
    "#dff.drop(columns=['mths_since_last_major_derog', 'open_act_il'], inplace= True)\n",
    "\n",
    "\n",
    "s1 = pd.DataFrame({'Fully Paid': dff.loc[dff['new_status']=='Fully Paid', 'fico_range_low'], 'Default': dff.loc[dff['new_status']=='Default', 'fico_range_low']}, index=None)\n",
    "\n",
    "fig, ax = plt.subplots(figsize=(10,8))\n",
    "\n",
    "ax.hist(s1, stacked=True, bins=20, rwidth=0.85)\n",
    "\n",
    "ax.legend(['Fully Paid', 'Default'])\n",
    "ax.set_xlabel('Fico score', fontsize=15)\n",
    "ax.set_ylabel('Count', fontsize=15)\n",
    "ax.set_title(\"Loan status distribution vs Fico score \", fontsize=16)\n",
    "ax.set_ylim(0,400000)\n",
    "\n",
    "\n",
    "p = ax.patches\n",
    "for i in range(0,20,1):\n",
    "    x1, y1 = p[i].get_xy()\n",
    "    x2, y2 = p[i+1].get_xy()\n",
    "    x = x1 + 2\n",
    "    Y1 = p[i].get_height()\n",
    "    Y2 = p[i+20].get_height()\n",
    "    y = Y2 + Y1 + 5000\n",
    "    a = Y2/(Y2 + Y1)\n",
    "    ax.text(x, y, round(a*100,1), rotation=90)\n",
    "    \n"
   ]
  },
  {
   "cell_type": "code",
   "execution_count": null,
   "id": "c3e97820",
   "metadata": {},
   "outputs": [],
   "source": []
  },
  {
   "cell_type": "code",
   "execution_count": null,
   "id": "5b9c084c",
   "metadata": {},
   "outputs": [],
   "source": []
  },
  {
   "cell_type": "code",
   "execution_count": null,
   "id": "3595d63d",
   "metadata": {},
   "outputs": [],
   "source": []
  },
  {
   "cell_type": "code",
   "execution_count": null,
   "id": "00516916",
   "metadata": {},
   "outputs": [],
   "source": []
  },
  {
   "cell_type": "code",
   "execution_count": 1,
   "id": "088ad414",
   "metadata": {},
   "outputs": [],
   "source": [
    "import pandas as pd\n",
    "import matplotlib.pyplot as plt\n",
    "import seaborn as sns\n",
    "import os\n",
    "import numpy as np\n",
    "import warnings\n",
    "warnings.filterwarnings('ignore')"
   ]
  },
  {
   "cell_type": "code",
   "execution_count": 20,
   "id": "e2523999",
   "metadata": {},
   "outputs": [],
   "source": [
    "# Opening the file and saving it as a pandas dataframe.\n",
    "filepath = \"C:\\\\Users\\\\somfl\\\\Documents\\\\Data Science Career Track\\\\LendingClub\\\\accepted_2007_to_2018Q4.csv\"\n",
    "df = pd.read_csv(filepath)\n",
    "mask = df['application_type'] == \"Individual\"\n",
    "dff = df[mask]\n",
    "drop_list=['hardship_payoff_balance_amount', 'hardship_last_payment_amount','disbursement_method', 'debt_settlement_flag',\n",
    "           'debt_settlement_flag_date', 'settlement_status', 'settlement_date','settlement_amount', 'settlement_percentage',\n",
    "           'settlement_term', 'annual_inc_joint', 'dti_joint','last_fico_range_high', 'last_fico_range_low', 'total_rec_late_fee',\n",
    "           'recoveries', 'collection_recovery_fee','last_pymnt_d', 'last_pymnt_amnt', 'next_pymnt_d', 'last_credit_pull_d',\n",
    "           'out_prncp', 'out_prncp_inv', 'total_pymnt', 'total_pymnt_inv', 'total_rec_prncp', 'total_rec_int', \n",
    "           'sec_app_fico_range_high','sec_app_earliest_cr_line', 'sec_app_inq_last_6mths','sec_app_mort_acc', 'sec_app_open_acc',\n",
    "           'sec_app_revol_util','sec_app_open_act_il', 'sec_app_num_rev_accts','sec_app_chargeoff_within_12_mths',\n",
    "           'sec_app_collections_12_mths_ex_med','sec_app_mths_since_last_major_derog', 'hardship_flag', 'hardship_type',\n",
    "           'hardship_reason', 'hardship_status', 'deferral_term','hardship_amount', 'hardship_start_date', 'hardship_end_date',\n",
    "           'payment_plan_start_date', 'hardship_length', 'hardship_dpd','hardship_loan_status', 'orig_projected_additional_accrued_interest',\n",
    "           'hardship_payoff_balance_amount', 'hardship_last_payment_amount', 'debt_settlement_flag','debt_settlement_flag_date', \n",
    "           'settlement_status', 'settlement_date', 'settlement_amount', 'settlement_percentage', 'settlement_term', 'member_id', 'revol_bal_joint',\n",
    "           'sec_app_fico_range_low' ]\n",
    "dff.drop(columns=drop_list, axis=1, inplace=True)\n"
   ]
  },
  {
   "cell_type": "code",
   "execution_count": null,
   "id": "b8fa7bdb",
   "metadata": {},
   "outputs": [],
   "source": [
    "column_desc = pd.read_excel( 'https://resources.lendingclub.com/LCDataDictionary.xlsx', index_col= 'LoanStatNew')\n",
    "column_desc = column_desc.iloc[:,0:1]"
   ]
  },
  {
   "cell_type": "code",
   "execution_count": 21,
   "id": "f8118643",
   "metadata": {},
   "outputs": [],
   "source": [
    "missing1 = dff.isnull().sum()\n",
    "missing2 = 100*dff.isnull().mean()\n",
    "missing = pd.concat([missing1, missing2], axis=1)\n",
    "missing.columns = ['count', '%']"
   ]
  },
  {
   "cell_type": "code",
   "execution_count": 22,
   "id": "bcdd7b4a",
   "metadata": {},
   "outputs": [
    {
     "data": {
      "text/plain": [
       "(2139958, 72)"
      ]
     },
     "execution_count": 22,
     "metadata": {},
     "output_type": "execute_result"
    }
   ],
   "source": [
    "null_list = missing.sort_values(by='%', ascending=False)[0:25].index\n",
    "dff.drop(columns=null_list, axis=1, inplace=True)\n",
    "dff.shape"
   ]
  },
  {
   "cell_type": "code",
   "execution_count": null,
   "id": "7accd538",
   "metadata": {},
   "outputs": [],
   "source": [
    "dff.columns"
   ]
  },
  {
   "cell_type": "code",
   "execution_count": 23,
   "id": "d23c2291",
   "metadata": {},
   "outputs": [],
   "source": [
    "drppp = ['policy_code', 'application_type',  'verification_status', 'pymnt_plan', 'url', 'purpose', \n",
    "'title', 'zip_code', 'addr_state', 'initial_list_status', 'id'] \n",
    "dff.drop(columns=drppp, axis=1, inplace=True)\n"
   ]
  },
  {
   "cell_type": "code",
   "execution_count": 24,
   "id": "12f6facc",
   "metadata": {},
   "outputs": [],
   "source": [
    "dff = dff.dropna()"
   ]
  },
  {
   "cell_type": "code",
   "execution_count": 25,
   "id": "ac01b094",
   "metadata": {},
   "outputs": [
    {
     "data": {
      "text/plain": [
       "Index(['loan_amnt', 'funded_amnt', 'funded_amnt_inv', 'term', 'int_rate',\n",
       "       'installment', 'grade', 'sub_grade', 'emp_length', 'home_ownership',\n",
       "       'annual_inc', 'issue_d', 'loan_status', 'dti', 'delinq_2yrs',\n",
       "       'earliest_cr_line', 'fico_range_low', 'fico_range_high',\n",
       "       'inq_last_6mths', 'open_acc', 'pub_rec', 'revol_bal', 'revol_util',\n",
       "       'total_acc', 'collections_12_mths_ex_med', 'acc_now_delinq',\n",
       "       'tot_coll_amt', 'tot_cur_bal', 'total_rev_hi_lim',\n",
       "       'acc_open_past_24mths', 'avg_cur_bal', 'bc_open_to_buy', 'bc_util',\n",
       "       'chargeoff_within_12_mths', 'delinq_amnt', 'mo_sin_old_rev_tl_op',\n",
       "       'mo_sin_rcnt_rev_tl_op', 'mo_sin_rcnt_tl', 'mort_acc',\n",
       "       'mths_since_recent_bc', 'num_accts_ever_120_pd', 'num_actv_bc_tl',\n",
       "       'num_actv_rev_tl', 'num_bc_sats', 'num_bc_tl', 'num_il_tl',\n",
       "       'num_op_rev_tl', 'num_rev_accts', 'num_rev_tl_bal_gt_0', 'num_sats',\n",
       "       'num_tl_30dpd', 'num_tl_90g_dpd_24m', 'num_tl_op_past_12m',\n",
       "       'pct_tl_nvr_dlq', 'percent_bc_gt_75', 'pub_rec_bankruptcies',\n",
       "       'tax_liens', 'tot_hi_cred_lim', 'total_bal_ex_mort', 'total_bc_limit',\n",
       "       'total_il_high_credit_limit'],\n",
       "      dtype='object')"
      ]
     },
     "execution_count": 25,
     "metadata": {},
     "output_type": "execute_result"
    }
   ],
   "source": [
    "dff.columns"
   ]
  },
  {
   "cell_type": "code",
   "execution_count": 26,
   "id": "77ef902c",
   "metadata": {},
   "outputs": [
    {
     "data": {
      "text/plain": [
       "MORTGAGE    1111450\n",
       "RENT         894929\n",
       "OWN          253057\n",
       "OTHER          1232\n",
       "Name: home_ownership, dtype: int64"
      ]
     },
     "execution_count": 26,
     "metadata": {},
     "output_type": "execute_result"
    }
   ],
   "source": [
    "df['home_ownership'].replace(['ANY', 'NONE'], 'OTHER', inplace=True)\n",
    "df['home_ownership'].value_counts()"
   ]
  },
  {
   "cell_type": "code",
   "execution_count": 27,
   "id": "78afcd9d",
   "metadata": {},
   "outputs": [],
   "source": [
    "dff['fico_score'] = np.mean([dff['fico_range_high'], dff['fico_range_low']])\n"
   ]
  },
  {
   "cell_type": "code",
   "execution_count": 28,
   "id": "3d341d5e",
   "metadata": {},
   "outputs": [],
   "source": [
    "dff['Credit Length (year)'] = (pd.to_datetime(dff['issue_d'])-pd.to_datetime(dff['earliest_cr_line']))/np.timedelta64(1,'Y')\n"
   ]
  },
  {
   "cell_type": "code",
   "execution_count": null,
   "id": "447fad6f",
   "metadata": {},
   "outputs": [],
   "source": [
    "dff.columns"
   ]
  },
  {
   "cell_type": "code",
   "execution_count": 29,
   "id": "e8809d38",
   "metadata": {},
   "outputs": [],
   "source": [
    "dff.drop(columns=['fico_range_low', 'fico_range_high', 'issue_d', 'earliest_cr_line'], axis=1, inplace=True)\n"
   ]
  },
  {
   "cell_type": "code",
   "execution_count": 30,
   "id": "f536cbcd",
   "metadata": {},
   "outputs": [
    {
     "data": {
      "text/plain": [
       "Fully Paid            936406\n",
       "Charged Off           229762\n",
       "Late (31-120 days)     17579\n",
       "In Grace Period         6820\n",
       "Late (16-30 days)       3445\n",
       "Default                   28\n",
       "Name: loan_status, dtype: int64"
      ]
     },
     "execution_count": 30,
     "metadata": {},
     "output_type": "execute_result"
    }
   ],
   "source": [
    "mask = dff['loan_status'] != \"Current\"\n",
    "dff = dff[mask]\n",
    "dff['loan_status'].value_counts()"
   ]
  },
  {
   "cell_type": "code",
   "execution_count": 31,
   "id": "b3e4b129",
   "metadata": {},
   "outputs": [],
   "source": [
    "dff['loan_status'].replace(['Charged Off', 'Late (31-120 days)', 'In Grace Period', 'Late (16-30 days)'], 'Default', inplace=True)"
   ]
  },
  {
   "cell_type": "code",
   "execution_count": 32,
   "id": "ff0385d2",
   "metadata": {},
   "outputs": [
    {
     "data": {
      "text/plain": [
       "Fully Paid    936406\n",
       "Default       257634\n",
       "Name: loan_status, dtype: int64"
      ]
     },
     "execution_count": 32,
     "metadata": {},
     "output_type": "execute_result"
    }
   ],
   "source": [
    "dff['loan_status'].value_counts()"
   ]
  },
  {
   "cell_type": "code",
   "execution_count": 34,
   "id": "cbacd200",
   "metadata": {},
   "outputs": [
    {
     "data": {
      "text/plain": [
       "(1194040, 59)"
      ]
     },
     "execution_count": 34,
     "metadata": {},
     "output_type": "execute_result"
    }
   ],
   "source": [
    "dff.shape"
   ]
  },
  {
   "cell_type": "code",
   "execution_count": 35,
   "id": "c50680bc",
   "metadata": {},
   "outputs": [
    {
     "data": {
      "text/plain": [
       "<AxesSubplot:xlabel='emp_length', ylabel='count'>"
      ]
     },
     "execution_count": 35,
     "metadata": {},
     "output_type": "execute_result"
    },
    {
     "data": {
      "image/png": "[encoded data removed]",
      "text/plain": [
       "<Figure size 720x360 with 1 Axes>"
      ]
     },
     "metadata": {
      "needs_background": "light"
     },
     "output_type": "display_data"
    }
   ],
   "source": [
    "fig, ax = plt.subplots(figsize=(10,5))\n",
    "sns.countplot(x=\"emp_length\", data=df, ax=ax, order=['< 1 year', '1 year', '2 years', '3 years', '4 years', '5 years', '6 years',\n",
    "                                                    '7 years', '8 years', '9 years', '10+ years'])"
   ]
  },
  {
   "cell_type": "code",
   "execution_count": 36,
   "id": "142e41a3",
   "metadata": {},
   "outputs": [
    {
     "data": {
      "text/plain": [
       "10 years up    423589\n",
       "2 years        114607\n",
       "3 years        101385\n",
       "1 year down     96959\n",
       "1 year          83337\n",
       "5 years         78290\n",
       "4 years         74896\n",
       "6 years         58508\n",
       "8 years         57864\n",
       "7 years         56107\n",
       "9 years         48498\n",
       "Name: emp_length, dtype: int64"
      ]
     },
     "execution_count": 36,
     "metadata": {},
     "output_type": "execute_result"
    }
   ],
   "source": [
    "dff['emp_length'].replace('< 1 year', '1 year down', inplace=True)\n",
    "dff['emp_length'].replace('10+ years', '10 years up', inplace=True)\n",
    "dff['emp_length'].value_counts()"
   ]
  },
  {
   "cell_type": "code",
   "execution_count": 37,
   "id": "1e3c7b6c",
   "metadata": {},
   "outputs": [],
   "source": [
    "from sklearn.compose import make_column_selector as selector\n",
    "from sklearn.model_selection import train_test_split, cross_validate, GridSearchCV, learning_curve\n",
    "from sklearn.preprocessing import MinMaxScaler, OneHotEncoder\n",
    "from sklearn import tree, metrics\n",
    "from IPython.display import Image  \n",
    "import pydotplus\n",
    "\n",
    "from xgboost import XGBClassifier, cv, plot_importance\n",
    "from sklearn.ensemble import RandomForestClassifier\n",
    "\n",
    "from sklearn.metrics import classification_report, roc_auc_score, f1_score, precision_recall_curve, accuracy_score, confusion_matrix, balanced_accuracy_score\n",
    "from sklearn.linear_model import LogisticRegression\n",
    "\n",
    "from sklearn.pipeline import make_pipeline\n",
    "\n",
    "from sklearn.metrics import fbeta_score, make_scorer\n",
    "\n",
    "import itertools\n",
    "\n",
    "import warnings\n",
    "warnings.filterwarnings('ignore')\n",
    "\n",
    "from imblearn.under_sampling import RandomUnderSampler\n",
    "\n",
    "from sklearn.feature_selection import SelectKBest, chi2\n",
    "from sklearn.compose import ColumnTransformer\n",
    "\n",
    "import datetime\n",
    "\n",
    "import pickle\n"
   ]
  },
  {
   "cell_type": "code",
   "execution_count": 52,
   "id": "9561c8e8",
   "metadata": {},
   "outputs": [
    {
     "data": {
      "text/plain": [
       "Index(['index', 'loan_amnt', 'funded_amnt', 'funded_amnt_inv', 'term',\n",
       "       'int_rate', 'installment', 'grade', 'sub_grade', 'emp_length',\n",
       "       'home_ownership', 'annual_inc', 'loan_status', 'dti', 'delinq_2yrs',\n",
       "       'inq_last_6mths', 'open_acc', 'pub_rec', 'revol_bal', 'revol_util',\n",
       "       'total_acc', 'collections_12_mths_ex_med', 'acc_now_delinq',\n",
       "       'tot_coll_amt', 'tot_cur_bal', 'total_rev_hi_lim',\n",
       "       'acc_open_past_24mths', 'avg_cur_bal', 'bc_open_to_buy', 'bc_util',\n",
       "       'chargeoff_within_12_mths', 'delinq_amnt', 'mo_sin_old_rev_tl_op',\n",
       "       'mo_sin_rcnt_rev_tl_op', 'mo_sin_rcnt_tl', 'mort_acc',\n",
       "       'mths_since_recent_bc', 'num_accts_ever_120_pd', 'num_actv_bc_tl',\n",
       "       'num_actv_rev_tl', 'num_bc_sats', 'num_bc_tl', 'num_il_tl',\n",
       "       'num_op_rev_tl', 'num_rev_accts', 'num_rev_tl_bal_gt_0', 'num_sats',\n",
       "       'num_tl_30dpd', 'num_tl_90g_dpd_24m', 'num_tl_op_past_12m',\n",
       "       'pct_tl_nvr_dlq', 'percent_bc_gt_75', 'pub_rec_bankruptcies',\n",
       "       'tax_liens', 'tot_hi_cred_lim', 'total_bal_ex_mort', 'total_bc_limit',\n",
       "       'total_il_high_credit_limit', 'fico_score', 'Credit Length (year)'],\n",
       "      dtype='object')"
      ]
     },
     "execution_count": 52,
     "metadata": {},
     "output_type": "execute_result"
    }
   ],
   "source": [
    "dff.columns"
   ]
  },
  {
   "cell_type": "code",
   "execution_count": null,
   "id": "a595e7df",
   "metadata": {},
   "outputs": [],
   "source": [
    "dff.dtypes"
   ]
  },
  {
   "cell_type": "code",
   "execution_count": 38,
   "id": "e28c17e1",
   "metadata": {},
   "outputs": [],
   "source": [
    "dff = dff.reset_index()"
   ]
  },
  {
   "cell_type": "code",
   "execution_count": 39,
   "id": "7424844e",
   "metadata": {},
   "outputs": [],
   "source": [
    "gframe = dff"
   ]
  },
  {
   "cell_type": "code",
   "execution_count": 51,
   "id": "81bd3cbb",
   "metadata": {},
   "outputs": [
    {
     "data": {
      "text/html": [
       "<div>\n",
       "<style scoped>\n",
       "    .dataframe tbody tr th:only-of-type {\n",
       "        vertical-align: middle;\n",
       "    }\n",
       "\n",
       "    .dataframe tbody tr th {\n",
       "        vertical-align: top;\n",
       "    }\n",
       "\n",
       "    .dataframe thead th {\n",
       "        text-align: right;\n",
       "    }\n",
       "</style>\n",
       "<table border=\"1\" class=\"dataframe\">\n",
       "  <thead>\n",
       "    <tr style=\"text-align: right;\">\n",
       "      <th></th>\n",
       "      <th>index</th>\n",
       "      <th>loan_amnt</th>\n",
       "      <th>funded_amnt</th>\n",
       "      <th>funded_amnt_inv</th>\n",
       "      <th>term</th>\n",
       "      <th>int_rate</th>\n",
       "      <th>installment</th>\n",
       "      <th>grade</th>\n",
       "      <th>sub_grade</th>\n",
       "      <th>emp_length</th>\n",
       "      <th>...</th>\n",
       "      <th>pct_tl_nvr_dlq</th>\n",
       "      <th>percent_bc_gt_75</th>\n",
       "      <th>pub_rec_bankruptcies</th>\n",
       "      <th>tax_liens</th>\n",
       "      <th>tot_hi_cred_lim</th>\n",
       "      <th>total_bal_ex_mort</th>\n",
       "      <th>total_bc_limit</th>\n",
       "      <th>total_il_high_credit_limit</th>\n",
       "      <th>fico_score</th>\n",
       "      <th>Credit Length (year)</th>\n",
       "    </tr>\n",
       "  </thead>\n",
       "  <tbody>\n",
       "    <tr>\n",
       "      <th>0</th>\n",
       "      <td>0</td>\n",
       "      <td>3600.0</td>\n",
       "      <td>3600.0</td>\n",
       "      <td>3600.0</td>\n",
       "      <td>36 months</td>\n",
       "      <td>13.99</td>\n",
       "      <td>123.03</td>\n",
       "      <td>C</td>\n",
       "      <td>C4</td>\n",
       "      <td>10 years up</td>\n",
       "      <td>...</td>\n",
       "      <td>76.9</td>\n",
       "      <td>0.0</td>\n",
       "      <td>0.0</td>\n",
       "      <td>0.0</td>\n",
       "      <td>178050.0</td>\n",
       "      <td>7746.0</td>\n",
       "      <td>2400.0</td>\n",
       "      <td>13734.0</td>\n",
       "      <td>699.351508</td>\n",
       "      <td>12.334271</td>\n",
       "    </tr>\n",
       "    <tr>\n",
       "      <th>1</th>\n",
       "      <td>1</td>\n",
       "      <td>24700.0</td>\n",
       "      <td>24700.0</td>\n",
       "      <td>24700.0</td>\n",
       "      <td>36 months</td>\n",
       "      <td>11.99</td>\n",
       "      <td>820.28</td>\n",
       "      <td>C</td>\n",
       "      <td>C1</td>\n",
       "      <td>10 years up</td>\n",
       "      <td>...</td>\n",
       "      <td>97.4</td>\n",
       "      <td>7.7</td>\n",
       "      <td>0.0</td>\n",
       "      <td>0.0</td>\n",
       "      <td>314017.0</td>\n",
       "      <td>39475.0</td>\n",
       "      <td>79300.0</td>\n",
       "      <td>24667.0</td>\n",
       "      <td>699.351508</td>\n",
       "      <td>16.000329</td>\n",
       "    </tr>\n",
       "    <tr>\n",
       "      <th>2</th>\n",
       "      <td>4</td>\n",
       "      <td>10400.0</td>\n",
       "      <td>10400.0</td>\n",
       "      <td>10400.0</td>\n",
       "      <td>60 months</td>\n",
       "      <td>22.45</td>\n",
       "      <td>289.91</td>\n",
       "      <td>F</td>\n",
       "      <td>F1</td>\n",
       "      <td>3 years</td>\n",
       "      <td>...</td>\n",
       "      <td>96.6</td>\n",
       "      <td>60.0</td>\n",
       "      <td>0.0</td>\n",
       "      <td>0.0</td>\n",
       "      <td>439570.0</td>\n",
       "      <td>95768.0</td>\n",
       "      <td>20300.0</td>\n",
       "      <td>88097.0</td>\n",
       "      <td>699.351508</td>\n",
       "      <td>17.500702</td>\n",
       "    </tr>\n",
       "    <tr>\n",
       "      <th>3</th>\n",
       "      <td>5</td>\n",
       "      <td>11950.0</td>\n",
       "      <td>11950.0</td>\n",
       "      <td>11950.0</td>\n",
       "      <td>36 months</td>\n",
       "      <td>13.44</td>\n",
       "      <td>405.18</td>\n",
       "      <td>C</td>\n",
       "      <td>C3</td>\n",
       "      <td>4 years</td>\n",
       "      <td>...</td>\n",
       "      <td>100.0</td>\n",
       "      <td>100.0</td>\n",
       "      <td>0.0</td>\n",
       "      <td>0.0</td>\n",
       "      <td>16900.0</td>\n",
       "      <td>12798.0</td>\n",
       "      <td>9400.0</td>\n",
       "      <td>4000.0</td>\n",
       "      <td>699.351508</td>\n",
       "      <td>28.167587</td>\n",
       "    </tr>\n",
       "    <tr>\n",
       "      <th>4</th>\n",
       "      <td>6</td>\n",
       "      <td>20000.0</td>\n",
       "      <td>20000.0</td>\n",
       "      <td>20000.0</td>\n",
       "      <td>36 months</td>\n",
       "      <td>9.17</td>\n",
       "      <td>637.58</td>\n",
       "      <td>B</td>\n",
       "      <td>B2</td>\n",
       "      <td>10 years up</td>\n",
       "      <td>...</td>\n",
       "      <td>96.3</td>\n",
       "      <td>100.0</td>\n",
       "      <td>0.0</td>\n",
       "      <td>0.0</td>\n",
       "      <td>388852.0</td>\n",
       "      <td>116762.0</td>\n",
       "      <td>31500.0</td>\n",
       "      <td>46452.0</td>\n",
       "      <td>699.351508</td>\n",
       "      <td>25.500866</td>\n",
       "    </tr>\n",
       "  </tbody>\n",
       "</table>\n",
       "<p>5 rows × 60 columns</p>\n",
       "</div>"
      ],
      "text/plain": [
       "   index  loan_amnt  funded_amnt  funded_amnt_inv        term  int_rate  \\\n",
       "0      0     3600.0       3600.0           3600.0   36 months     13.99   \n",
       "1      1    24700.0      24700.0          24700.0   36 months     11.99   \n",
       "2      4    10400.0      10400.0          10400.0   60 months     22.45   \n",
       "3      5    11950.0      11950.0          11950.0   36 months     13.44   \n",
       "4      6    20000.0      20000.0          20000.0   36 months      9.17   \n",
       "\n",
       "   installment grade sub_grade   emp_length  ... pct_tl_nvr_dlq  \\\n",
       "0       123.03     C        C4  10 years up  ...           76.9   \n",
       "1       820.28     C        C1  10 years up  ...           97.4   \n",
       "2       289.91     F        F1      3 years  ...           96.6   \n",
       "3       405.18     C        C3      4 years  ...          100.0   \n",
       "4       637.58     B        B2  10 years up  ...           96.3   \n",
       "\n",
       "   percent_bc_gt_75 pub_rec_bankruptcies  tax_liens  tot_hi_cred_lim  \\\n",
       "0               0.0                  0.0        0.0         178050.0   \n",
       "1               7.7                  0.0        0.0         314017.0   \n",
       "2              60.0                  0.0        0.0         439570.0   \n",
       "3             100.0                  0.0        0.0          16900.0   \n",
       "4             100.0                  0.0        0.0         388852.0   \n",
       "\n",
       "   total_bal_ex_mort  total_bc_limit  total_il_high_credit_limit  fico_score  \\\n",
       "0             7746.0          2400.0                     13734.0  699.351508   \n",
       "1            39475.0         79300.0                     24667.0  699.351508   \n",
       "2            95768.0         20300.0                     88097.0  699.351508   \n",
       "3            12798.0          9400.0                      4000.0  699.351508   \n",
       "4           116762.0         31500.0                     46452.0  699.351508   \n",
       "\n",
       "   Credit Length (year)  \n",
       "0             12.334271  \n",
       "1             16.000329  \n",
       "2             17.500702  \n",
       "3             28.167587  \n",
       "4             25.500866  \n",
       "\n",
       "[5 rows x 60 columns]"
      ]
     },
     "execution_count": 51,
     "metadata": {},
     "output_type": "execute_result"
    }
   ],
   "source": [
    "gframe.head()"
   ]
  },
  {
   "cell_type": "code",
   "execution_count": 85,
   "id": "bf7dfa0f",
   "metadata": {},
   "outputs": [
    {
     "name": "stdout",
     "output_type": "stream",
     "text": [
      "The new X has the columns added by One Hot Encoder, which has increased the number of columns from 57 to 78\n"
     ]
    }
   ],
   "source": [
    "y = dff['loan_status']\n",
    "X = dff.drop(columns=['loan_status', 'sub_grade', 'index'])\n",
    "\n",
    "# Choose the categorical columns\n",
    "col_num =X.shape[1]\n",
    "categorical_columns_selector = selector(dtype_include=object)\n",
    "categorical_columns = categorical_columns_selector(X)\n",
    "\n",
    "# One Hot encode\n",
    "\n",
    "enc = OneHotEncoder(drop='if_binary')\n",
    "enc_df = pd.DataFrame(enc.fit_transform(X[categorical_columns]).toarray())\n",
    "feature_names = enc.get_feature_names(input_features=categorical_columns)\n",
    "enc_df.columns = feature_names\n",
    "X.drop(columns=categorical_columns, inplace=True)\n",
    "# merge with main df bridge_df on key values\n",
    "X =X.join(enc_df)\n",
    "#X.set_index('id', inplace=True)\n",
    "print('The new X has the columns added by One Hot Encoder, which has increased the number of columns from {} to {}'.format(col_num, X.shape[1]))\n",
    "\n",
    "Xcol_names = X.columns\n",
    "ycol_name =['Status']\n",
    "\n",
    "# Undersample\n",
    "Xn = X.to_numpy()\n",
    "yn = y.to_numpy()\n",
    "random_state=42\n",
    "RU = RandomUnderSampler()\n",
    "X_res, y_res = RU.fit_resample(Xn,yn)\n",
    "\n",
    "# Split\n",
    "X_train, X_test, y_train, y_test = train_test_split(X_res, y_res, test_size=0.3, stratify=y_res, random_state=47)\n",
    "\n",
    "# Change back to panads dataframe\n",
    "X_train = pd.DataFrame(X_train, columns=Xcol_names)\n",
    "X_test = pd.DataFrame(X_test, columns=Xcol_names)\n",
    "y_train = pd.DataFrame(y_train, columns=ycol_name)\n",
    "y_test = pd.DataFrame(y_test, columns=ycol_name)\n",
    "\n"
   ]
  },
  {
   "cell_type": "code",
   "execution_count": null,
   "id": "07527c38",
   "metadata": {},
   "outputs": [],
   "source": [
    "from sklearn.model_selection import StratifiedKFold, KFold\n"
   ]
  },
  {
   "cell_type": "code",
   "execution_count": 87,
   "id": "0fa3087b",
   "metadata": {},
   "outputs": [
    {
     "name": "stdout",
     "output_type": "stream",
     "text": [
      "Balanced accuaracy scores of 5 fold logistic regression are:  [0.65783637 0.65696304 0.65731848 0.65723533 0.6557109 ]\n",
      "Mean and standard deviation of balanced accuaracy scores of 5 fold logistic regression is:  0.6570128247255248  , 0.0007097380838132517\n"
     ]
    }
   ],
   "source": [
    "pipe = make_pipeline( \n",
    "    MinMaxScaler(),\n",
    "    LogisticRegression()\n",
    ")\n",
    "\n",
    "lr_cv_results = cross_validate(pipe, X_train, y_train, scoring = 'balanced_accuracy', cv=5)\n",
    "lr_cv_scores = lr_cv_results['test_score']\n",
    "\n",
    "print('Balanced accuaracy scores of 5 fold logistic regression are: ', lr_cv_scores)\n",
    "print('Mean and standard deviation of balanced accuaracy scores of 5 fold logistic regression is: ', lr_cv_scores.mean(),  ' ,' , lr_cv_scores.std())"
   ]
  },
  {
   "cell_type": "code",
   "execution_count": 90,
   "id": "79473895",
   "metadata": {},
   "outputs": [
    {
     "data": {
      "text/plain": [
       "GridSearchCV(cv=5,\n",
       "             estimator=Pipeline(steps=[('minmaxscaler', MinMaxScaler()),\n",
       "                                       ('logisticregression',\n",
       "                                        LogisticRegression())]),\n",
       "             n_jobs=-1,\n",
       "             param_grid={'logisticregression__C': [0.1, 100],\n",
       "                         'logisticregression__penalty': ['l1', 'l2']},\n",
       "             scoring='balanced_accuracy')"
      ]
     },
     "execution_count": 90,
     "metadata": {},
     "output_type": "execute_result"
    }
   ],
   "source": [
    "grid_params = {'logisticregression__penalty': ['l1','l2'], 'logisticregression__C': [0.1,100,]}\n",
    "\n",
    "# Perform grid search\n",
    "lr_grid_cv = GridSearchCV(pipe, param_grid=grid_params, cv=5, scoring = 'balanced_accuracy', n_jobs=-1)\n",
    "lr_grid_cv.fit(X_train, y_train)\n"
   ]
  },
  {
   "cell_type": "code",
   "execution_count": 92,
   "id": "756bbe1f",
   "metadata": {},
   "outputs": [],
   "source": [
    "model_features = pd.DataFrame(lr_grid_cv.best_estimator_.named_steps.logisticregression.coef_.T)\n",
    "model_features.index = X.columns\n",
    "model_features.columns=['Importance']"
   ]
  },
  {
   "cell_type": "code",
   "execution_count": 95,
   "id": "8860e4f1",
   "metadata": {},
   "outputs": [
    {
     "data": {
      "text/plain": [
       "Index(['loan_amnt', 'funded_amnt', 'funded_amnt_inv', 'int_rate',\n",
       "       'installment', 'annual_inc', 'dti', 'delinq_2yrs', 'inq_last_6mths',\n",
       "       'open_acc', 'pub_rec', 'revol_bal', 'revol_util', 'total_acc',\n",
       "       'collections_12_mths_ex_med', 'acc_now_delinq', 'tot_coll_amt',\n",
       "       'tot_cur_bal', 'total_rev_hi_lim', 'acc_open_past_24mths',\n",
       "       'avg_cur_bal', 'bc_open_to_buy', 'bc_util', 'chargeoff_within_12_mths',\n",
       "       'delinq_amnt', 'mo_sin_old_rev_tl_op', 'mo_sin_rcnt_rev_tl_op',\n",
       "       'mo_sin_rcnt_tl', 'mort_acc', 'mths_since_recent_bc',\n",
       "       'num_accts_ever_120_pd', 'num_actv_bc_tl', 'num_actv_rev_tl',\n",
       "       'num_bc_sats', 'num_bc_tl', 'num_il_tl', 'num_op_rev_tl',\n",
       "       'num_rev_accts', 'num_rev_tl_bal_gt_0', 'num_sats', 'num_tl_30dpd',\n",
       "       'num_tl_90g_dpd_24m', 'num_tl_op_past_12m', 'pct_tl_nvr_dlq',\n",
       "       'percent_bc_gt_75', 'pub_rec_bankruptcies', 'tax_liens',\n",
       "       'tot_hi_cred_lim', 'total_bal_ex_mort', 'total_bc_limit',\n",
       "       'total_il_high_credit_limit', 'fico_score', 'Credit Length (year)',\n",
       "       'term_ 60 months', 'grade_A', 'grade_B', 'grade_C', 'grade_D',\n",
       "       'grade_E', 'grade_F', 'grade_G', 'emp_length_1 year',\n",
       "       'emp_length_1 year down', 'emp_length_10 years up',\n",
       "       'emp_length_2 years', 'emp_length_3 years', 'emp_length_4 years',\n",
       "       'emp_length_5 years', 'emp_length_6 years', 'emp_length_7 years',\n",
       "       'emp_length_8 years', 'emp_length_9 years', 'home_ownership_ANY',\n",
       "       'home_ownership_MORTGAGE', 'home_ownership_NONE',\n",
       "       'home_ownership_OTHER', 'home_ownership_OWN', 'home_ownership_RENT'],\n",
       "      dtype='object')"
      ]
     },
     "execution_count": 95,
     "metadata": {},
     "output_type": "execute_result"
    }
   ],
   "source": [
    "model_features.index"
   ]
  },
  {
   "cell_type": "code",
   "execution_count": null,
   "id": "4aa60b05",
   "metadata": {},
   "outputs": [],
   "source": []
  },
  {
   "cell_type": "code",
   "execution_count": null,
   "id": "2cf93417",
   "metadata": {},
   "outputs": [],
   "source": []
  },
  {
   "cell_type": "code",
   "execution_count": 96,
   "id": "270559c9",
   "metadata": {},
   "outputs": [
    {
     "data": {
      "text/plain": [
       "Text(43.401553819444445, 0.5, 'Feature')"
      ]
     },
     "execution_count": 96,
     "metadata": {},
     "output_type": "execute_result"
    },
    {
     "data": {
      "image/png": "[encoded data removed]",
      "text/plain": [
       "<Figure size 440.875x360 with 1 Axes>"
      ]
     },
     "metadata": {
      "needs_background": "light"
     },
     "output_type": "display_data"
    }
   ],
   "source": [
    "model_features = pd.DataFrame(lr_grid_cv.best_estimator_.named_steps.logisticregression.coef_.T)\n",
    "model_features.index = X.columns\n",
    "model_features.columns=['Importance']\n",
    "\n",
    "HO = model_features.loc['home_ownership_ANY':,:]\n",
    "HO = pd.DataFrame({'Importance': HO.mean()})\n",
    "HO.index = ['home_ownership']\n",
    "\n",
    "Emp = model_features.loc['emp_length_1 year':'emp_length_9 years', :]\n",
    "Emp = pd.DataFrame({'Importance': Emp.mean()})\n",
    "Emp.index = ['employment length']\n",
    "\n",
    "Sub = model_features.loc['grade_A':'grade_G', :]\n",
    "sub = pd.DataFrame({'Importance': Sub.mean()})\n",
    "sub.index = ['sub_grade']\n",
    "\n",
    "#VS = model_features.loc['verification_status_Not Verified':'verification_status_Verified', :]\n",
    "#vs = pd.DataFrame({'Importance': VS.mean()})\n",
    "#vs.index = ['Verification status']\n",
    "\n",
    "term = pd.DataFrame({'Importance': model_features.loc['term_ 60 months',:]})\n",
    "term.index = ['term']\n",
    "\n",
    "model_features = pd.concat([model_features.loc[:'Credit Length (year)',:], term, HO, Emp, sub])\n",
    "title = 'Feature importance for tuned logistic regression'\n",
    "model_features['Effect'] = 'Positive'\n",
    "model_features.loc[model_features['Importance'] < 0, 'Effect'] = 'Negative'\n",
    "model_features['Absolute effect'] = abs(model_features['Importance'])\n",
    "data = model_features.sort_values(by='Absolute effect', ascending=False)\n",
    "\n",
    "# Plot feature importance\n",
    "sns.catplot(y= data.index, x='Absolute effect', hue='Effect', kind='bar', data=data)\n",
    "plt.title(title)\n",
    "plt.xlabel('Coefficient')\n",
    "plt.ylabel('Feature')"
   ]
  },
  {
   "cell_type": "code",
   "execution_count": 106,
   "id": "797e4a43",
   "metadata": {},
   "outputs": [
    {
     "data": {
      "text/plain": [
       "Text(25.100776909722242, 0.5, 'Feature')"
      ]
     },
     "execution_count": 106,
     "metadata": {},
     "output_type": "execute_result"
    },
    {
     "data": {
      "image/png": "[encoded data removed]",
      "text/plain": [
       "<Figure size 800.875x1440 with 1 Axes>"
      ]
     },
     "metadata": {
      "needs_background": "light"
     },
     "output_type": "display_data"
    }
   ],
   "source": [
    "# Plot feature importance\n",
    "sns.catplot(y= data.index, x='Absolute effect', hue='Effect', kind='bar', data=data, height=20, aspect=0.5)\n",
    "plt.title(title)\n",
    "plt.xlabel('Coefficient', fontsize=18)\n",
    "plt.ylabel('Feature', fontsize=18)"
   ]
  },
  {
   "cell_type": "code",
   "execution_count": null,
   "id": "9b582799",
   "metadata": {},
   "outputs": [],
   "source": []
  }
 ],
 "metadata": {
  "kernelspec": {
   "display_name": "Python 3",
   "language": "python",
   "name": "python3"
  },
  "language_info": {
   "codemirror_mode": {
    "name": "ipython",
    "version": 3
   },
   "file_extension": ".py",
   "mimetype": "text/x-python",
   "name": "python",
   "nbconvert_exporter": "python",
   "pygments_lexer": "ipython3",
   "version": "3.8.8"
  }
 },
 "nbformat": 4,
 "nbformat_minor": 5
}
